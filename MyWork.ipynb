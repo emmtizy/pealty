{
    "cells": [
        {
            "cell_type": "markdown",
            "metadata": {},
            "source": "Project to be done. peer review assignment"
        },
        {
            "cell_type": "code",
            "execution_count": 2,
            "metadata": {},
            "outputs": [
                {
                    "name": "stdout",
                    "output_type": "stream",
                    "text": "The sum of 1.5 and 6.3 is 7.8\n"
                }
            ],
            "source": "# The code was removed by Watson Studio for sharing."
        },
        {
            "cell_type": "code",
            "execution_count": 3,
            "metadata": {},
            "outputs": [
                {
                    "name": "stdout",
                    "output_type": "stream",
                    "text": "The sum of 1.5 and 6.3 is 7.8\n"
                }
            ],
            "source": "\n# <i>I am interested in data science because i like to work with data </i>\n\n# <h3> The following code will add two numbers</h3>\n\n# In[5]:\n\n\nnum1 = 1.5\nnum2 = 6.3\n\n# Add two numbers\nsum = num1 + num2\n\n# Display the sum\nprint('The sum of {0} and {1} is {2}'.format(num1, num2, sum))\n\n\n# <ul>\n#   <li>Coffee</li>\n#   <li>Tea</li>\n#   <li>Milk</li>\n# </ul>\n\n# <ol>\n#   <li>Coffee</li>\n#   <li>Tea</li>\n#   <li>Milk</li>\n# </ol>\n\n# <a href=\"url\">link text</a>\n\n# In[ ]:"
        },
        {
            "cell_type": "code",
            "execution_count": null,
            "metadata": {},
            "outputs": [],
            "source": ""
        }
    ],
    "metadata": {
        "kernelspec": {
            "display_name": "Python 3.6",
            "language": "python",
            "name": "python3"
        },
        "language_info": {
            "codemirror_mode": {
                "name": "ipython",
                "version": 3
            },
            "file_extension": ".py",
            "mimetype": "text/x-python",
            "name": "python",
            "nbconvert_exporter": "python",
            "pygments_lexer": "ipython3",
            "version": "3.6.9"
        }
    },
    "nbformat": 4,
    "nbformat_minor": 1
}